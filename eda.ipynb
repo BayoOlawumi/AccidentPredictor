{
 "cells": [
  {
   "cell_type": "code",
   "execution_count": 34,
   "metadata": {},
   "outputs": [],
   "source": [
    "import pandas as pd\n",
    "import numpy as np\n",
    "import matplotlib.pyplot as plt\n",
    "import re"
   ]
  },
  {
   "cell_type": "code",
   "execution_count": 19,
   "metadata": {},
   "outputs": [],
   "source": [
    "df2016 = pd.read_csv('data/rtc_2016.csv')\n",
    "df2017 = pd.read_csv('data/rtc_2017.csv')\n",
    "df2018 = pd.read_csv('data/rtc_2018.csv')\n",
    "df2019 = pd.read_csv('data/rtc_2019.csv')\n",
    "df2020 = pd.read_csv('data/rtc_2020.csv')"
   ]
  },
  {
   "cell_type": "markdown",
   "metadata": {},
   "source": [
    "#### Aggregate Data"
   ]
  },
  {
   "cell_type": "code",
   "execution_count": 46,
   "metadata": {},
   "outputs": [],
   "source": [
    "total_df = pd.concat([df2016,df2017,df2018,df2019,df2020], ignore_index=True)"
   ]
  },
  {
   "cell_type": "code",
   "execution_count": 47,
   "metadata": {},
   "outputs": [],
   "source": [
    "total_df.drop('Unnamed: 0', inplace=True, axis=1)"
   ]
  },
  {
   "cell_type": "markdown",
   "metadata": {},
   "source": [
    "##### Time Splitter Function"
   ]
  },
  {
   "cell_type": "code",
   "execution_count": 48,
   "metadata": {},
   "outputs": [],
   "source": [
    "new_crash_time = total_df['crash_time'].astype(str).apply(lambda x: re.sub(\"[^0-9]\", \"\", x))"
   ]
  },
  {
   "cell_type": "code",
   "execution_count": 49,
   "metadata": {},
   "outputs": [],
   "source": [
    "new_arrival_time = total_df['arrival_time'].astype(str).apply(lambda x: re.sub(\"[^0-9]\", \"\", x))"
   ]
  },
  {
   "cell_type": "code",
   "execution_count": 50,
   "metadata": {},
   "outputs": [],
   "source": [
    "new_response_time = total_df['response_time'].astype(str).apply(lambda x: re.sub(\"[^0-9]\", \"\", x))"
   ]
  },
  {
   "cell_type": "code",
   "execution_count": 51,
   "metadata": {},
   "outputs": [],
   "source": [
    "total_df['crash_time'] = pd.to_numeric(new_crash_time)"
   ]
  },
  {
   "cell_type": "code",
   "execution_count": 52,
   "metadata": {},
   "outputs": [],
   "source": [
    "total_df['arrival_time'] = pd.to_numeric(new_arrival_time)"
   ]
  },
  {
   "cell_type": "code",
   "execution_count": 53,
   "metadata": {},
   "outputs": [],
   "source": [
    "total_df['response_time'] = pd.to_numeric(new_response_time)"
   ]
  },
  {
   "cell_type": "code",
   "execution_count": null,
   "metadata": {},
   "outputs": [],
   "source": []
  },
  {
   "cell_type": "code",
   "execution_count": 54,
   "metadata": {},
   "outputs": [],
   "source": [
    "total_df.to_csv('data/aggregated.csv')"
   ]
  },
  {
   "cell_type": "markdown",
   "metadata": {},
   "source": [
    "#### EDA"
   ]
  },
  {
   "cell_type": "code",
   "execution_count": 57,
   "metadata": {},
   "outputs": [
    {
     "name": "stdout",
     "output_type": "stream",
     "text": [
      "<class 'pandas.core.frame.DataFrame'>\n",
      "RangeIndex: 911 entries, 0 to 910\n",
      "Data columns (total 33 columns):\n",
      " #   Column                    Non-Null Count  Dtype \n",
      "---  ------                    --------------  ----- \n",
      " 0   sn                        911 non-null    int64 \n",
      " 1   command                   911 non-null    object\n",
      " 2   date                      911 non-null    object\n",
      " 3   crash_time                911 non-null    int64 \n",
      " 4   report_time               911 non-null    int64 \n",
      " 5   arrival_time              911 non-null    int64 \n",
      " 6   response_time             911 non-null    int64 \n",
      " 7   route                     911 non-null    object\n",
      " 8   location                  911 non-null    object\n",
      " 9   vehicle_no                911 non-null    object\n",
      " 10  vehicle_type              910 non-null    object\n",
      " 11  vehicle_cat               911 non-null    object\n",
      " 12  vehicle_make              910 non-null    object\n",
      " 13  vehicle_model             910 non-null    object\n",
      " 14  fleet_operator            17 non-null     object\n",
      " 15  name_of_driver            1 non-null      object\n",
      " 16  dl_no                     1 non-null      object\n",
      " 17  causes                    911 non-null    object\n",
      " 18  no_injured_male_adult     911 non-null    int64 \n",
      " 19  no_injured_female_adult   911 non-null    int64 \n",
      " 20  no_injured_male_child     911 non-null    int64 \n",
      " 21  no_injured_female_child   911 non-null    int64 \n",
      " 22  total_injured             911 non-null    int64 \n",
      " 23  no_killed_male_adult      911 non-null    int64 \n",
      " 24  no_killed_female_adult    911 non-null    int64 \n",
      " 25  no_killed_male_child      911 non-null    int64 \n",
      " 26  no_killed_female_child    911 non-null    int64 \n",
      " 27  total_killed              911 non-null    int64 \n",
      " 28  no_involved_male_adult    911 non-null    int64 \n",
      " 29  no_involved_female_adult  911 non-null    int64 \n",
      " 30  no_involved_male_child    911 non-null    int64 \n",
      " 31  no_involved_female_child  911 non-null    int64 \n",
      " 32  total_involved            911 non-null    int64 \n",
      "dtypes: int64(20), object(13)\n",
      "memory usage: 235.0+ KB\n"
     ]
    }
   ],
   "source": [
    "total_df.info()"
   ]
  },
  {
   "cell_type": "code",
   "execution_count": null,
   "metadata": {},
   "outputs": [],
   "source": []
  }
 ],
 "metadata": {
  "kernelspec": {
   "display_name": "Python 3",
   "language": "python",
   "name": "python3"
  },
  "language_info": {
   "codemirror_mode": {
    "name": "ipython",
    "version": 3
   },
   "file_extension": ".py",
   "mimetype": "text/x-python",
   "name": "python",
   "nbconvert_exporter": "python",
   "pygments_lexer": "ipython3",
   "version": "3.7.6"
  }
 },
 "nbformat": 4,
 "nbformat_minor": 4
}
